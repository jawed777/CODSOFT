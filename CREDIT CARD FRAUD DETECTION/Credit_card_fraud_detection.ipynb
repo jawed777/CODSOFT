{
  "nbformat": 4,
  "nbformat_minor": 0,
  "metadata": {
    "colab": {
      "provenance": []
    },
    "kernelspec": {
      "name": "python3",
      "display_name": "Python 3"
    },
    "language_info": {
      "name": "python"
    }
  },
  "cells": [
    {
      "cell_type": "code",
      "source": [
        "import pandas as pd\n",
        "import numpy as np\n",
        "from sklearn.preprocessing import OneHotEncoder\n",
        "from sklearn.model_selection import train_test_split\n",
        "from sklearn.ensemble import RandomForestClassifier\n",
        "from sklearn.linear_model import LogisticRegression\n",
        "from sklearn.tree import DecisionTreeClassifier\n",
        "from sklearn.metrics import accuracy_score, classification_report\n",
        "import psutil"
      ],
      "metadata": {
        "id": "iCW4CyJgw0Ux"
      },
      "execution_count": 1,
      "outputs": []
    },
    {
      "cell_type": "code",
      "source": [
        "# 📌 Load Data\n",
        "train_data = pd.read_csv(\"fraudTrain.csv\" , nrows=10000)  # Replace with actual file\n",
        "test_data = pd.read_csv(\"fraudTest.csv\", nrows=10000)    # Replace with actual file"
      ],
      "metadata": {
        "id": "ja2ad5l-w3AD"
      },
      "execution_count": 2,
      "outputs": []
    },
    {
      "cell_type": "code",
      "source": [
        "# 📌 Drop Unnecessary Columns\n",
        "cols_to_drop = [\n",
        "    \"Unnamed: 0\", \"first\", \"last\", \"street\", \"dob\", \"trans_num\",\n",
        "    \"unix_time\", \"lat\", \"long\", \"merch_lat\", \"merch_long\"\n",
        "]\n",
        "train_data.drop(columns=cols_to_drop, errors=\"ignore\", inplace=True)\n",
        "test_data.drop(columns=cols_to_drop, errors=\"ignore\", inplace=True)"
      ],
      "metadata": {
        "id": "Fa8SVSXEw5s2"
      },
      "execution_count": 3,
      "outputs": []
    },
    {
      "cell_type": "code",
      "source": [
        "# 📌 Define Features (X) and Target (y)\n",
        "target_col = \"is_fraud\"\n",
        "categorical_cols = [\"category\", \"gender\", \"merchant\", \"city\", \"state\", \"job\"]"
      ],
      "metadata": {
        "id": "Jz46d5Jhw9D4"
      },
      "execution_count": 4,
      "outputs": []
    },
    {
      "cell_type": "code",
      "source": [
        "X = train_data.drop(columns=[target_col])\n",
        "y = train_data[target_col]\n",
        "\n",
        "X_test = test_data.drop(columns=[target_col], errors='ignore')"
      ],
      "metadata": {
        "id": "6KZ8Qrr2w-H0"
      },
      "execution_count": 5,
      "outputs": []
    },
    {
      "cell_type": "code",
      "source": [
        "if 'trans_date_trans_time' in X.columns:\n",
        "    X['trans_date_trans_time'] = pd.to_datetime(X['trans_date_trans_time'])\n",
        "    X['year'] = X['trans_date_trans_time'].dt.year\n",
        "    X['month'] = X['trans_date_trans_time'].dt.month\n",
        "    X['day'] = X['trans_date_trans_time'].dt.day\n",
        "    X['hour'] = X['trans_date_trans_time'].dt.hour\n",
        "    X['minute'] = X['trans_date_trans_time'].dt.minute\n",
        "    X['second'] = X['trans_date_trans_time'].dt.second\n",
        "    X.drop(columns=['trans_date_trans_time'], inplace=True)"
      ],
      "metadata": {
        "id": "QqjoJhuOxCzc"
      },
      "execution_count": 6,
      "outputs": []
    },
    {
      "cell_type": "code",
      "source": [
        "if 'trans_date_trans_time' in X_test.columns:\n",
        "    X_test['trans_date_trans_time'] = pd.to_datetime(X_test['trans_date_trans_time'])\n",
        "    X_test['year'] = X_test['trans_date_trans_time'].dt.year\n",
        "    X_test['month'] = X_test['trans_date_trans_time'].dt.month\n",
        "    X_test['day'] = X_test['trans_date_trans_time'].dt.day\n",
        "    X_test['hour'] = X_test['trans_date_trans_time'].dt.hour\n",
        "    X_test['minute'] = X_test['trans_date_trans_time'].dt.minute\n",
        "    X_test['second'] = X_test['trans_date_trans_time'].dt.second\n",
        "    X_test.drop(columns=['trans_date_trans_time'], inplace=True)"
      ],
      "metadata": {
        "id": "u2vnl_Z0xGBm"
      },
      "execution_count": 7,
      "outputs": []
    },
    {
      "cell_type": "code",
      "source": [
        "if all(col in X.columns for col in categorical_cols):\n",
        "    # 📌 One-Hot Encode Categorical Variables\n",
        "    encoder = OneHotEncoder(handle_unknown=\"ignore\", sparse_output=False)"
      ],
      "metadata": {
        "id": "hQV9yDhHxInS"
      },
      "execution_count": 8,
      "outputs": []
    },
    {
      "cell_type": "code",
      "source": [
        "# Fit on Train Data and Transform Both Train & Test\n",
        "X_cat = encoder.fit_transform(X[categorical_cols])\n",
        "X_test_cat = encoder.transform(X_test[categorical_cols])"
      ],
      "metadata": {
        "id": "a-_3C8HzxNEz"
      },
      "execution_count": 9,
      "outputs": []
    },
    {
      "cell_type": "code",
      "source": [
        "# Convert Encoded Data to DataFrame\n",
        "X_cat_df = pd.DataFrame(X_cat, columns=encoder.get_feature_names_out(categorical_cols))\n",
        "X_test_cat_df = pd.DataFrame(X_test_cat, columns=encoder.get_feature_names_out(categorical_cols))"
      ],
      "metadata": {
        "id": "MiGQsyoKxPzM"
      },
      "execution_count": 10,
      "outputs": []
    },
    {
      "cell_type": "code",
      "source": [
        "# Merge Encoded Columns\n",
        "X = pd.concat([X, X_cat_df], axis=1)\n",
        "X_test = pd.concat([X_test, X_test_cat_df], axis=1)"
      ],
      "metadata": {
        "id": "s2_BcpKgxVhs"
      },
      "execution_count": 11,
      "outputs": []
    },
    {
      "cell_type": "code",
      "source": [
        "# Drop Original Categorical Columns\n",
        "X.drop(columns=categorical_cols, inplace=True)\n",
        "X_test.drop(columns=categorical_cols, inplace=True)"
      ],
      "metadata": {
        "id": "15-lm7pxxSkz"
      },
      "execution_count": 12,
      "outputs": []
    },
    {
      "cell_type": "code",
      "source": [
        "# 📌 Split Train Data into Training and Validation Sets\n",
        "X_train, X_valid, y_train, y_valid = train_test_split(X, y, test_size=0.2, random_state=42)"
      ],
      "metadata": {
        "id": "-jisb3CBxaNY"
      },
      "execution_count": 13,
      "outputs": []
    },
    {
      "cell_type": "code",
      "source": [
        "models = {\n",
        "    \"Random Forest\": RandomForestClassifier(n_estimators=100, random_state=42,class_weight='balanced'),\n",
        "    \"Logistic Regression\": LogisticRegression(max_iter=1000, class_weight='balanced'),\n",
        "    \"Decision Tree\": DecisionTreeClassifier(random_state=42,class_weight='balanced')\n",
        "}\n"
      ],
      "metadata": {
        "id": "H182zRKmxbjH"
      },
      "execution_count": 17,
      "outputs": []
    },
    {
      "cell_type": "code",
      "source": [
        "for name, model in models.items():\n",
        "    print(f\"\\n=== Training {name} ===\")\n",
        "    model.fit(X_train, y_train)  # Train Model\n",
        "    y_pred = model.predict(X_valid)  # Predict on Validation Set\n",
        "\n",
        "    accuracy = accuracy_score(y_valid, y_pred)\n",
        "    print(f\"Accuracy: {accuracy:.4f}\")\n",
        "    print(classification_report(y_valid, y_pred))"
      ],
      "metadata": {
        "colab": {
          "base_uri": "https://localhost:8080/"
        },
        "id": "5Wr8t13pxfGY",
        "outputId": "89992319-1131-401a-d236-d0198699a21a"
      },
      "execution_count": 18,
      "outputs": [
        {
          "output_type": "stream",
          "name": "stdout",
          "text": [
            "\n",
            "=== Training Random Forest ===\n",
            "Accuracy: 0.9995\n",
            "              precision    recall  f1-score   support\n",
            "\n",
            "           0       1.00      1.00      1.00      1994\n",
            "           1       1.00      0.83      0.91         6\n",
            "\n",
            "    accuracy                           1.00      2000\n",
            "   macro avg       1.00      0.92      0.95      2000\n",
            "weighted avg       1.00      1.00      1.00      2000\n",
            "\n",
            "\n",
            "=== Training Logistic Regression ===\n",
            "Accuracy: 0.9970\n",
            "              precision    recall  f1-score   support\n",
            "\n",
            "           0       1.00      1.00      1.00      1994\n",
            "           1       0.00      0.00      0.00         6\n",
            "\n",
            "    accuracy                           1.00      2000\n",
            "   macro avg       0.50      0.50      0.50      2000\n",
            "weighted avg       0.99      1.00      1.00      2000\n",
            "\n",
            "\n",
            "=== Training Decision Tree ===\n"
          ]
        },
        {
          "output_type": "stream",
          "name": "stderr",
          "text": [
            "/usr/local/lib/python3.10/dist-packages/sklearn/metrics/_classification.py:1565: UndefinedMetricWarning: Precision is ill-defined and being set to 0.0 in labels with no predicted samples. Use `zero_division` parameter to control this behavior.\n",
            "  _warn_prf(average, modifier, f\"{metric.capitalize()} is\", len(result))\n",
            "/usr/local/lib/python3.10/dist-packages/sklearn/metrics/_classification.py:1565: UndefinedMetricWarning: Precision is ill-defined and being set to 0.0 in labels with no predicted samples. Use `zero_division` parameter to control this behavior.\n",
            "  _warn_prf(average, modifier, f\"{metric.capitalize()} is\", len(result))\n",
            "/usr/local/lib/python3.10/dist-packages/sklearn/metrics/_classification.py:1565: UndefinedMetricWarning: Precision is ill-defined and being set to 0.0 in labels with no predicted samples. Use `zero_division` parameter to control this behavior.\n",
            "  _warn_prf(average, modifier, f\"{metric.capitalize()} is\", len(result))\n"
          ]
        },
        {
          "output_type": "stream",
          "name": "stdout",
          "text": [
            "Accuracy: 0.9950\n",
            "              precision    recall  f1-score   support\n",
            "\n",
            "           0       1.00      1.00      1.00      1994\n",
            "           1       0.36      0.83      0.50         6\n",
            "\n",
            "    accuracy                           0.99      2000\n",
            "   macro avg       0.68      0.91      0.75      2000\n",
            "weighted avg       1.00      0.99      1.00      2000\n",
            "\n"
          ]
        }
      ]
    }
  ]
}